{
 "cells": [
  {
   "cell_type": "markdown",
   "metadata": {},
   "source": [
    "## Programming for Data Analysis\n",
    "\n",
    "Course: HDip in Computing in Data Analytics\n",
    "Module: Programming for Data Analysis\n",
    "Author: Stefania Verduga\n",
    "***"
   ]
  },
  {
   "cell_type": "markdown",
   "metadata": {},
   "source": [
    "## Table of Contents\n",
    "\n",
    "1. [Description](#Description)\n",
    "- 1.1 [Technology and Libraries used for this project](#Technology-and-Libraries-used-for-this-project)\n",
    "2. [Objectives of the Project](#Objectives-of-the-Project)\n",
    "3. [Analysis](#Analysis)\n",
    "4. [Conclusion](#Conclusion)\n",
    "5. [References](#References)\n",
    "***\n",
    "\n",
    "## 1. Description\n",
    "\n",
    "The project is an Analysis of paleo-present climate data. The following steps need to be done in order to carry out it succesfully:\n",
    "- Analyse CO2 vs Temperature Anomaly from 800kyrs – present.\n",
    "- Examine one other (paleo/modern) features (e.g. CH4 or polar ice-coverage).\n",
    "- Examine Irish context:\n",
    "    - Climate change signals: (see Maynooth study: The emergence of a climate change signal in long-term Irish meteorological observations - ScienceDirect)\n",
    "- Fuse and analyse data from various data sources and format fused data set as a pandas dataframe and export to csv and json formats.\n",
    "- For all of the above variables, analyse the data, the trends and the relationships between them (temporal leads/lags/frequency analysis).\n",
    "- Predict global temperature anomaly over next few decades (synthesise data) and compare to published climate models if atmospheric CO2 trends continue.\n",
    "- Comment on accelerated warming based on very latest features (e.g. temperature/polar-ice- coverage).\n",
    "***\n",
    "\n",
    "### 1.1 Technology and Libraries used for this project\n",
    "\n",
    "This project was developed using Python [01] and the following packages:\n",
    "\n",
    "- **Numpy**: used to perform a wide variety of mathematical operations on arrays. NumPy is the fundamental package for scientific computing in Python. It is a Python library that provides a multidimensional array object, various derived objects (such as masked arrays and matrices), and an assortment of routines for fast operations on arrays, including mathematical, logical, shape manipulation. [02]\n",
    "- **Pandas**: used to perform data manipulation and analysis.Pandas is a Python library for data analysis. It is built on top of two core Python libraries—matplotlib for data visualization and NumPy for mathematical operations. Pandas acts as a wrapper over these libraries, allowing you to access many of matplotlib's and NumPy's methods with less code. [03]\n",
    "- **Matplotlib**: used for data visualization and graphical ploting. Matplotlib is a comprehensive library for creating static, animated, and interactive visualizations in Python. [04]\n",
    "- **Seaborn**: built on top of matplotlib with similar functionalities. Seaborn is a Python data visualization library based on matplotlib. It provides a high-level interface for drawing attractive and informative statistical graphics. [05]"
   ]
  },
  {
   "cell_type": "code",
   "execution_count": 1,
   "metadata": {},
   "outputs": [],
   "source": [
    "import numpy as np  \n",
    "import pandas as pd\n",
    "import matplotlib.pyplot as plt\n",
    "import seaborn as sns"
   ]
  },
  {
   "cell_type": "markdown",
   "metadata": {},
   "source": [
    "## 2. Objectives of the project\n",
    "\n",
    "The objective of this project is to analyze the relationship between CO2 levels and temperature. According to the Global Monitoring Laboratory NOAA, \"*Since the beginning of the atmospheric measurement record, annually-averaged CO2 concentrations have risen without interruption. This continuous increase is driven by the burning of fossil fuels. The two significant exceptions to this steady increase in emissions are both attributable to major global economic disruptions: emissions fell from 2008 to 2009 as a result of the global economic recession, and from 2019 to 2020 due to the COVID pandemic. These small decreases are not large enough to significantly slow the growth of atmospheric CO2 concentrations*\"[06].\n",
    "\n",
    "The CO2 is the most important greenhouse gas, which absorbs and radiates heat. The greenhouse gases absorb heat from the surface of the Earth and release it in all directions. Without CO2, the natural greenhouse effect of the Earth would be too weak to keep the global surface temperature above freezing. However, by adding more CO2 to the atmosphere as it is currently happening, we are supercharging the natural greenhouse effect, causing global temperature to rise [07]."
   ]
  },
  {
   "cell_type": "markdown",
   "metadata": {},
   "source": [
    "## 5. References\n",
    "[01] [Python Software Foundation. (2023). Python](#https://www.python.org/)  \n",
    "[02] [NumPy team. (2023). Numpy](#https://numpy.org/)  \n",
    "[03] [Pandas via NumFOCUS. (2023). Pandas](#https://pandas.pydata.org/)  \n",
    "[04] [Matplotlib development team. (2012 - 2023). Matplotlib: Visualization with Python](#https://matplotlib.org/)  \n",
    "[05] [Seaborn Development Team. (2012 - 2023). Seaborn: Statistical Data Visualization](#https://seaborn.pydata.org/)  \n",
    "[06] [Global Monitoring Laboratory - NOAA Research. (2022). CarbonTracker CT2022](#https://gml.noaa.gov/ccgg/carbontracker/)  \n",
    "[07] [Climate.gov. (2023). Climate Change: Atmospheric Carbon Dioxide](#https://www.climate.gov/news-features/understanding-climate/climate-change-atmospheric-carbon-dioxide)  "
   ]
  },
  {
   "cell_type": "markdown",
   "metadata": {},
   "source": []
  }
 ],
 "metadata": {
  "kernelspec": {
   "display_name": "base",
   "language": "python",
   "name": "python3"
  },
  "language_info": {
   "codemirror_mode": {
    "name": "ipython",
    "version": 3
   },
   "file_extension": ".py",
   "mimetype": "text/x-python",
   "name": "python",
   "nbconvert_exporter": "python",
   "pygments_lexer": "ipython3",
   "version": "3.9.13"
  },
  "orig_nbformat": 4
 },
 "nbformat": 4,
 "nbformat_minor": 2
}
