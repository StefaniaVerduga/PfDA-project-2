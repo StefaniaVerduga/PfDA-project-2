{
 "cells": [
  {
   "cell_type": "markdown",
   "metadata": {},
   "source": [
    "## Programming for Data Analysis\n",
    "\n",
    "Course: HDip in Computing in Data Analytics\n",
    "Module: Programming for Data Analysis\n",
    "Author: Stefania Verduga\n",
    "***"
   ]
  },
  {
   "cell_type": "markdown",
   "metadata": {},
   "source": [
    "## Table of Contents\n",
    "\n",
    "1. [Description](#Description)\n",
    "- 1.1 [Technology and Libraries used for this project](#Technology-and-Libraries-used-for-this-project)\n",
    "2. [Objectives of the Project](#Objectives-of-the-Project)\n",
    "3. [Analysis](#Analysis)\n",
    "4. [Conclusion](#Conclusion)\n",
    "5. [References](#References)\n",
    "***\n",
    "\n",
    "## 1. Description\n",
    "\n",
    "The project is an Analysis of paleo-present climate data. The following steps need to be done in order to carry out it succesfully:\n",
    "- Analyse CO2 vs Temperature Anomaly from 800kyrs – present.\n",
    "- Examine one other (paleo/modern) features (e.g. CH4 or polar ice-coverage).\n",
    "- Examine Irish context:\n",
    "    - Climate change signals: (see Maynooth study: The emergence of a climate change signal in long-term Irish meteorological observations - ScienceDirect)\n",
    "- Fuse and analyse data from various data sources and format fused data set as a pandas dataframe and export to csv and json formats.\n",
    "- For all of the above variables, analyse the data, the trends and the relationships between them (temporal leads/lags/frequency analysis).\n",
    "- Predict global temperature anomaly over next few decades (synthesise data) and compare to published climate models if atmospheric CO2 trends continue.\n",
    "- Comment on accelerated warming based on very latest features (e.g. temperature/polar-ice- coverage).\n"
   ]
  },
  {
   "cell_type": "code",
   "execution_count": null,
   "metadata": {},
   "outputs": [],
   "source": []
  }
 ],
 "metadata": {
  "language_info": {
   "name": "python"
  },
  "orig_nbformat": 4
 },
 "nbformat": 4,
 "nbformat_minor": 2
}
